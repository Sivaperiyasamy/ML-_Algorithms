{
  "nbformat": 4,
  "nbformat_minor": 0,
  "metadata": {
    "colab": {
      "provenance": [],
      "authorship_tag": "ABX9TyPTLx4xrXr6+04t67M3jRlb",
      "include_colab_link": true
    },
    "kernelspec": {
      "name": "python3",
      "display_name": "Python 3"
    },
    "language_info": {
      "name": "python"
    }
  },
  "cells": [
    {
      "cell_type": "markdown",
      "metadata": {
        "id": "view-in-github",
        "colab_type": "text"
      },
      "source": [
        "<a href=\"https://colab.research.google.com/github/Sivaperiyasamy/ML-_Algorithms/blob/main/numpy.ipynb\" target=\"_parent\"><img src=\"https://colab.research.google.com/assets/colab-badge.svg\" alt=\"Open In Colab\"/></a>"
      ]
    },
    {
      "cell_type": "code",
      "execution_count": null,
      "metadata": {
        "colab": {
          "base_uri": "https://localhost:8080/"
        },
        "id": "kzMPnRZ36jod",
        "outputId": "c790b8b3-3b86-4a6a-9232-b5154a1809d0"
      },
      "outputs": [
        {
          "output_type": "stream",
          "name": "stdout",
          "text": [
            "[1, 2, 3, 4]\n",
            "[1, 3, 4]\n",
            "{'brand': 'maruthisuzuki', 'model': '800 ac', 'year': '2005'}\n",
            "dict_keys(['brand', 'model', 'year'])\n",
            "dict_values(['maruthisuzuki', '800 ac', '2005'])\n"
          ]
        }
      ],
      "source": [
        "l=[1,2,3]\n",
        "l.append(4)\n",
        "print(l)\n",
        "l.remove(2)\n",
        "print(l)\n",
        "\n",
        "cardict={\n",
        "    \"brand\":\"maruthisuzuki\",\n",
        "    \"model\":\"800 ac\",\n",
        "    \"year\":\"2005\"\n",
        "}\n",
        "print(cardict)\n",
        "print(cardict.keys())\n",
        "print(cardict.values())\n"
      ]
    },
    {
      "cell_type": "code",
      "source": [
        "import numpy as np\n",
        "arr=np.array([[1,2],[2,3],[3,4]])\n",
        "print(arr.shape)\n",
        "print(np.shape(arr))"
      ],
      "metadata": {
        "colab": {
          "base_uri": "https://localhost:8080/"
        },
        "id": "ZyxX7nwB7i06",
        "outputId": "94591c40-3894-4439-d6f7-0969b76b5fd3"
      },
      "execution_count": null,
      "outputs": [
        {
          "output_type": "stream",
          "name": "stdout",
          "text": [
            "(3, 2)\n",
            "(3, 2)\n"
          ]
        }
      ]
    },
    {
      "cell_type": "code",
      "source": [
        "import numpy as np\n",
        "np.random.random(3)\n",
        "np.random.randint(3)\n",
        "np.random.random((4,3,2))\n",
        "np.random.random((4,3,2))\n",
        "np.eye(2)\n"
      ],
      "metadata": {
        "colab": {
          "base_uri": "https://localhost:8080/"
        },
        "id": "uDszFda_7lqF",
        "outputId": "c5bd0251-4819-493e-8cb3-8154de76aa69"
      },
      "execution_count": null,
      "outputs": [
        {
          "output_type": "execute_result",
          "data": {
            "text/plain": [
              "array([[1., 0.],\n",
              "       [0., 1.]])"
            ]
          },
          "metadata": {},
          "execution_count": 55
        }
      ]
    },
    {
      "cell_type": "code",
      "source": [],
      "metadata": {
        "id": "_3nEZj5VoUL3"
      },
      "execution_count": null,
      "outputs": []
    },
    {
      "cell_type": "code",
      "source": [
        "import numpy as np\n",
        "a=np.linspace(0.,1.,num=5)\n",
        "print(a)\n",
        "f=np.arange(1,11,2)\n",
        "print(f)"
      ],
      "metadata": {
        "colab": {
          "base_uri": "https://localhost:8080/"
        },
        "id": "P9YfY9C_7n12",
        "outputId": "5c3b8c60-738a-44e0-9706-6ad4a9527038"
      },
      "execution_count": null,
      "outputs": [
        {
          "output_type": "stream",
          "name": "stdout",
          "text": [
            "[0.   0.25 0.5  0.75 1.  ]\n",
            "[1 3 5 7 9]\n"
          ]
        }
      ]
    },
    {
      "cell_type": "code",
      "source": [
        "a=np.array([[1,2,3],[3,4,5],[5,6,7]])\n",
        "#print(a[1:2])\n",
        "print(a[0:3,1])\n",
        "#print(a([1:3 2:4]))"
      ],
      "metadata": {
        "colab": {
          "base_uri": "https://localhost:8080/"
        },
        "id": "xvTHatje7qkr",
        "outputId": "9e1f20da-4cc6-4c19-de74-835593578d2a"
      },
      "execution_count": null,
      "outputs": [
        {
          "output_type": "stream",
          "name": "stdout",
          "text": [
            "[2 4 6]\n"
          ]
        }
      ]
    },
    {
      "cell_type": "code",
      "source": [
        "import numpy as np\n",
        "a=np.array([[1,2,3,4],[5,6,7,8],[9,10,11,12],[13,14,15,16]])\n",
        "#b=np.array([3,2,1,0])\n",
        "b=np.array([0,1,2,3])\n",
        "print(a[np.arange(4),b])\n"
      ],
      "metadata": {
        "colab": {
          "base_uri": "https://localhost:8080/"
        },
        "id": "Gq5XmJ3c7rvQ",
        "outputId": "26b7a4b2-fb6b-48bd-eb8f-6b26333f2341"
      },
      "execution_count": null,
      "outputs": [
        {
          "output_type": "stream",
          "name": "stdout",
          "text": [
            "[ 1  6 11 16]\n"
          ]
        }
      ]
    },
    {
      "cell_type": "code",
      "source": [
        "a=np.array([1,4,2,7,3,-4,3,6,3,5,8])\n",
        "print(np.argmax(a))\n",
        "print(np.argmin(a)) #arg means index\n",
        "print(np.argsort(a))\n",
        "print(np.argsort(a)[::-1])\n",
        "print(np.where(a>5)[0])\n",
        "print(np.where(a>=a[np.argmax(a)])[0])"
      ],
      "metadata": {
        "colab": {
          "base_uri": "https://localhost:8080/"
        },
        "id": "t5wnDWhV-cZZ",
        "outputId": "b0a48acc-6c94-4b72-e6dc-35287c31d09a"
      },
      "execution_count": null,
      "outputs": [
        {
          "output_type": "stream",
          "name": "stdout",
          "text": [
            "10\n",
            "5\n",
            "[ 5  0  2  4  6  8  1  9  7  3 10]\n",
            "[10  3  7  9  1  8  6  4  2  0  5]\n",
            "[ 3  7 10]\n",
            "[10]\n"
          ]
        }
      ]
    },
    {
      "cell_type": "code",
      "source": [
        "a=np.array(([0],[1]))\n",
        "b=np.append(a,[[1],[2]])\n",
        "print(b)\n",
        "a=np.array([[1,4,2],[7,3,-4]])\n",
        "print(np.where(a>5))"
      ],
      "metadata": {
        "colab": {
          "base_uri": "https://localhost:8080/"
        },
        "id": "4YFLkBHwAMGN",
        "outputId": "fdd40cff-b8b0-45e1-8827-268155fb2a73"
      },
      "execution_count": null,
      "outputs": [
        {
          "output_type": "stream",
          "name": "stdout",
          "text": [
            "[0 1 1 2]\n",
            "(array([1]), array([0]))\n"
          ]
        }
      ]
    },
    {
      "cell_type": "code",
      "source": [
        "a=np.array([[1,4,2],[7,3,-4],[3,6,3],[5,8,9]])\n",
        "c=np.sort(a,axis=1,kind=\"quicksort\")#row wise\n",
        "b=np.sort(a,axis=0,kind=\"quicksort\")#0=coloumn wise\n",
        "print(c)\n",
        "print()\n",
        "print(b)"
      ],
      "metadata": {
        "colab": {
          "base_uri": "https://localhost:8080/"
        },
        "id": "5am-U1nuC4qJ",
        "outputId": "bcf45971-3d16-41e1-b07a-72d47dac7ecb"
      },
      "execution_count": null,
      "outputs": [
        {
          "output_type": "stream",
          "name": "stdout",
          "text": [
            "[[ 1  2  4]\n",
            " [-4  3  7]\n",
            " [ 3  3  6]\n",
            " [ 5  8  9]]\n",
            "\n",
            "[[ 1  3 -4]\n",
            " [ 3  4  2]\n",
            " [ 5  6  3]\n",
            " [ 7  8  9]]\n"
          ]
        }
      ]
    },
    {
      "cell_type": "code",
      "source": [
        "x=np.array([[1,2],[3,4]])\n",
        "y=np.array([[5,6],[7,8]])\n",
        "\n",
        "z=np.array([7,6,4])\n",
        "w=np.array([9,8,7])\n",
        "\n",
        "print(x.dot(y))\n",
        "print(z.dot(w))\n",
        "#TRANSPOSE\n",
        "print(x.T)"
      ],
      "metadata": {
        "colab": {
          "base_uri": "https://localhost:8080/"
        },
        "id": "XMr5-1DXD9M3",
        "outputId": "d7975b75-b711-4751-8b78-8b13ac0ba3c9"
      },
      "execution_count": null,
      "outputs": [
        {
          "output_type": "stream",
          "name": "stdout",
          "text": [
            "[[19 22]\n",
            " [43 50]]\n",
            "139\n",
            "[[1 3]\n",
            " [2 4]]\n"
          ]
        }
      ]
    },
    {
      "cell_type": "code",
      "source": [
        "#squeeze will remove unnwanted brackets\n",
        "a=np.array([[[1,4,2,7,3,-4,3,6,3,5,8]]])\n",
        "w=np.squeeze(a)\n",
        "print(w)\n",
        "\n",
        "#broadcasting will add to all the elemenrs in  the array\n",
        "print(w+1)\n",
        "\n",
        "#array broad casting\n",
        "x=np.array([[1,2],[3,4]])+np.array([[1,2],[3,4]])\n",
        "print(x)\n",
        "\n"
      ],
      "metadata": {
        "colab": {
          "base_uri": "https://localhost:8080/"
        },
        "id": "rewcE8WGFnJ6",
        "outputId": "db10a15f-cf95-40ed-c223-21771ada50ff"
      },
      "execution_count": null,
      "outputs": [
        {
          "output_type": "stream",
          "name": "stdout",
          "text": [
            "[ 1  4  2  7  3 -4  3  6  3  5  8]\n",
            "[ 2  5  3  8  4 -3  4  7  4  6  9]\n",
            "[[2 4]\n",
            " [6 8]]\n"
          ]
        }
      ]
    },
    {
      "cell_type": "code",
      "source": [
        "a=np.array([1,4,2])+np.array([[1],[2],[3]])\n",
        "print(a)\n"
      ],
      "metadata": {
        "colab": {
          "base_uri": "https://localhost:8080/"
        },
        "id": "gfq6uZVaGzVo",
        "outputId": "4b3a6b4a-cb31-43de-e90c-490be65d9163"
      },
      "execution_count": null,
      "outputs": [
        {
          "output_type": "stream",
          "name": "stdout",
          "text": [
            "[[2 5 3]\n",
            " [3 6 4]\n",
            " [4 7 5]]\n"
          ]
        }
      ]
    }
  ]
}